{
 "cells": [
  {
   "attachments": {},
   "cell_type": "markdown",
   "id": "d14e6fe4-4765-4bc4-96d7-3df145952097",
   "metadata": {},
   "source": [
    "# Data Science Tools and Ecosystem\n",
    "\n",
    "In this notebook, Data Science Tools and Ecosystem are summarized."
   ]
  },
  {
   "cell_type": "markdown",
   "id": "f57fdd78-c39f-41b1-b25f-1bcde0592807",
   "metadata": {},
   "source": [
    "Some of the popular languages that Data Scientists use are:\n",
    "1. Python\n",
    "2. R\n",
    "3. SQL\n",
    "4. C++\n",
    "5. Java"
   ]
  },
  {
   "cell_type": "markdown",
   "id": "34377156-909d-4da3-91e1-8bf7aebf5ca5",
   "metadata": {},
   "source": [
    "Some of the commonly used libraries used by Data Scientists include:\n",
    "1. Pandas\n",
    "2. Matplotlib\n",
    "3. Numpy\n",
    "4. Seaborn\n",
    "5. Tensorflow"
   ]
  },
  {
   "cell_type": "markdown",
   "id": "230e1c26-e43a-40a4-a30b-a31e0ea76ba6",
   "metadata": {},
   "source": [
    "Data Science Tools:\n",
    "\n",
    "| Development Environment  | Description                                         | Key Features                               |\n",
    "|--------------------------|-----------------------------------------------------|--------------------------------------------|\n",
    "| Jupyter Notebook         | Web-based interactive environment for notebooks.    | Supports Markdown, code execution, and visualization |\n",
    "| RStudio                  | IDE for R and Python, popular in data science.      | Data visualization, statistical analysis, and R Markdown integration |\n",
    "| VS Code (with extensions)| Code editor supporting multiple languages and tools | Extensible with data science plugins and support for Jupyter notebooks |\n"
   ]
  },
  {
   "cell_type": "markdown",
   "id": "fe1ba66f-ce53-4dda-bcdb-7a7f4cebf7ea",
   "metadata": {},
   "source": [
    "### Below are a few examples of evaluating arithmetic expressions in Python"
   ]
  },
  {
   "cell_type": "code",
   "execution_count": 2,
   "id": "537f4e4c-b8da-48d8-92fe-5c23a3af8523",
   "metadata": {},
   "outputs": [
    {
     "data": {
      "text/plain": [
       "17"
      ]
     },
     "execution_count": 2,
     "metadata": {},
     "output_type": "execute_result"
    }
   ],
   "source": [
    "#This a simple arithmetic expression to mutiply then add integers\n",
    "(3*4)+5"
   ]
  },
  {
   "cell_type": "code",
   "execution_count": 3,
   "id": "e457be96-d40b-45f2-ab7b-890047460fe7",
   "metadata": {},
   "outputs": [
    {
     "data": {
      "text/plain": [
       "3.3333333333333335"
      ]
     },
     "execution_count": 3,
     "metadata": {},
     "output_type": "execute_result"
    }
   ],
   "source": [
    "#This will convert 200 minutes to hours by diving by 60\n",
    "200 / 60"
   ]
  },
  {
   "cell_type": "markdown",
   "id": "fd4efaa6-aefa-4466-9165-9631470f5cca",
   "metadata": {},
   "source": [
    "# List popular languages for Data Science\n",
    "* Python\n",
    "* SQL\n",
    "* R"
   ]
  },
  {
   "cell_type": "markdown",
   "id": "a579f8e6-48bb-45b8-a254-c613873d84d2",
   "metadata": {},
   "source": [
    "## Author:\n",
    "Joshua Parep"
   ]
  },
  {
   "cell_type": "code",
   "execution_count": null,
   "id": "9dc84cae-9c14-43b2-87cc-a95ebafa13f1",
   "metadata": {},
   "outputs": [],
   "source": []
  }
 ],
 "metadata": {
  "kernelspec": {
   "display_name": "Python 3 (ipykernel)",
   "language": "python",
   "name": "python3"
  },
  "language_info": {
   "codemirror_mode": {
    "name": "ipython",
    "version": 3
   },
   "file_extension": ".py",
   "mimetype": "text/x-python",
   "name": "python",
   "nbconvert_exporter": "python",
   "pygments_lexer": "ipython3",
   "version": "3.11.9"
  }
 },
 "nbformat": 4,
 "nbformat_minor": 5
}
